{
 "cells": [
  {
   "cell_type": "code",
   "execution_count": 4,
   "metadata": {},
   "outputs": [
    {
     "name": "stdout",
     "output_type": "stream",
     "text": [
      "Enter your 1st Number12\n",
      "Enter your 2nd Number12\n",
      "1. Addition\n",
      "2. Subtraction\n",
      "3. Multiply\n",
      "4. Division\n",
      "Select Operator from 1, 2, 3, 41\n",
      "Result is 24\n"
     ]
    }
   ],
   "source": [
    "num1 = int(input(\"Enter your 1st Number\"))\n",
    "num2 = int(input(\"Enter your 2nd Number\"))\n",
    "print(\"1. Addition\")\n",
    "print(\"2. Subtraction\")\n",
    "print(\"3. Multiply\")\n",
    "print(\"4. Division\")\n",
    "op = int(input(\"Select Operator from 1, 2, 3, 4\"));\n",
    "result = 0;\n",
    "if op == 1 :\n",
    "    result = num1 + num2\n",
    "    print(\"Result is \" + str(result))\n",
    "elif op == 2 :\n",
    "    result = num1-num2\n",
    "    print(\"Result is \" + str(result))\n",
    "elif op == 3 :\n",
    "    result = num1 * num2\n",
    "    print(\"Result is \" + str(result))\n",
    "elif op == 4 :\n",
    "    result = num1 // num2\n",
    "    print(\"Result is \" + str(result))\n",
    "else :\n",
    "    print(\"Invalid Operator is Entered\");\n",
    "    "
   ]
  },
  {
   "cell_type": "code",
   "execution_count": 26,
   "metadata": {},
   "outputs": [
    {
     "ename": "SyntaxError",
     "evalue": "invalid syntax (<ipython-input-26-dae24367b34d>, line 3)",
     "output_type": "error",
     "traceback": [
      "\u001b[1;36m  File \u001b[1;32m\"<ipython-input-26-dae24367b34d>\"\u001b[1;36m, line \u001b[1;32m3\u001b[0m\n\u001b[1;33m    if int() in list\u001b[0m\n\u001b[1;37m                    ^\u001b[0m\n\u001b[1;31mSyntaxError\u001b[0m\u001b[1;31m:\u001b[0m invalid syntax\n"
     ]
    }
   ],
   "source": [
    "list = [\"Suneel\", \"Mahesh\", 12, 12]\n",
    "for item in list :\n",
    "    if  in list\n",
    "        print(\"item\");"
   ]
  },
  {
   "cell_type": "code",
   "execution_count": 37,
   "metadata": {},
   "outputs": [
    {
     "name": "stdout",
     "output_type": "stream",
     "text": [
      "{'Name': 'Suneel', 'gender': 'Male'}\n",
      "{'Name': 'Suneel', 'gender': 'Male', 'Age': 20}\n"
     ]
    }
   ],
   "source": [
    "d = {\"Name\" : \"Suneel\", \n",
    "      \"gender\" : \"Male\"      \n",
    "    }\n",
    "print(d)\n",
    "d.update({\"Age\" : 20});\n",
    "\n",
    "print(d);"
   ]
  },
  {
   "cell_type": "code",
   "execution_count": 41,
   "metadata": {},
   "outputs": [
    {
     "name": "stdout",
     "output_type": "stream",
     "text": [
      "600\n"
     ]
    }
   ],
   "source": [
    "numDic = {'a' : 100, 'b' : 200, 'c' : 300}\n",
    "sum = 0\n",
    "for item in numDic :\n",
    "        sum += numDic[item]\n",
    "print(sum)"
   ]
  },
  {
   "cell_type": "code",
   "execution_count": 45,
   "metadata": {},
   "outputs": [
    {
     "name": "stdout",
     "output_type": "stream",
     "text": [
      "[1, 4, 5, 3, 2, 6]\n"
     ]
    }
   ],
   "source": [
    "dupList = [1 , 4 , 5 , 3 , 2 , 3 , 5 , 4 , 2 , 1, 6]\n",
    "newList = [];\n",
    "for value in dupList :\n",
    "    if value not in newList :\n",
    "        newList.append(value)\n",
    "print(newList)"
   ]
  },
  {
   "cell_type": "code",
   "execution_count": 56,
   "metadata": {},
   "outputs": [
    {
     "name": "stdout",
     "output_type": "stream",
     "text": [
      "True\n"
     ]
    }
   ],
   "source": [
    "d = {1: 10, 2: 20, 3: 30, 4: 40, 5: 50, 6: 60}\n",
    "def is_key_exist(x):\n",
    "    if x in d :\n",
    "        print(True)\n",
    "    else :\n",
    "        print(False)\n",
    "is_key_exist(6)"
   ]
  },
  {
   "cell_type": "code",
   "execution_count": null,
   "metadata": {},
   "outputs": [],
   "source": []
  }
 ],
 "metadata": {
  "kernelspec": {
   "display_name": "Python 3",
   "language": "python",
   "name": "python3"
  },
  "language_info": {
   "codemirror_mode": {
    "name": "ipython",
    "version": 3
   },
   "file_extension": ".py",
   "mimetype": "text/x-python",
   "name": "python",
   "nbconvert_exporter": "python",
   "pygments_lexer": "ipython3",
   "version": "3.7.4"
  }
 },
 "nbformat": 4,
 "nbformat_minor": 2
}
